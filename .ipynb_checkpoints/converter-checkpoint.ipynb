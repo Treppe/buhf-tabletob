{
 "cells": [
  {
   "cell_type": "code",
   "execution_count": 2,
   "id": "8548d52a",
   "metadata": {},
   "outputs": [],
   "source": [
    "import cv2\n",
    "import numpy as np\n",
    "import matplotlib.pyplot as plt"
   ]
  },
  {
   "cell_type": "code",
   "execution_count": 30,
   "id": "88f882d9",
   "metadata": {},
   "outputs": [
    {
     "data": {
      "image/png": "[encoded data removed]",
      "text/plain": [
       "<Figure size 432x288 with 1 Axes>"
      ]
     },
     "metadata": {
      "needs_background": "light"
     },
     "output_type": "display_data"
    }
   ],
   "source": [
    "card = cv2.imread('../../cards/no-corner.png', cv2.COLOR_BGR2RGB)\n",
    "plt.imshow(card)\n",
    "plt.show()"
   ]
  },
  {
   "cell_type": "code",
   "execution_count": 31,
   "id": "8a27a74d",
   "metadata": {},
   "outputs": [
    {
     "name": "stdout",
     "output_type": "stream",
     "text": [
      "256\n"
     ]
    },
    {
     "data": {
      "text/plain": [
       "[256, 513, 770, 1027]"
      ]
     },
     "execution_count": 31,
     "metadata": {},
     "output_type": "execute_result"
    }
   ],
   "source": [
    "height = card.shape[0]\n",
    "print(height // 5)\n",
    "colors_id = [i * height // 5 for i in range(1, 5)]\n",
    "colors_id"
   ]
  },
  {
   "cell_type": "code",
   "execution_count": 32,
   "id": "470cb4a7",
   "metadata": {},
   "outputs": [
    {
     "data": {
      "text/plain": [
       "[array([ 31, 217, 255], dtype=uint8),\n",
       " array([102, 131, 255], dtype=uint8),\n",
       " array([102, 131, 255], dtype=uint8),\n",
       " array([226, 135, 113], dtype=uint8)]"
      ]
     },
     "execution_count": 32,
     "metadata": {},
     "output_type": "execute_result"
    }
   ],
   "source": [
    "half_width = card.shape[1] // 2\n",
    "colors = [card[i, half_width] for i in colors_id]\n",
    "colors"
   ]
  },
  {
   "cell_type": "code",
   "execution_count": null,
   "id": "c6a1b18f",
   "metadata": {},
   "outputs": [],
   "source": [
    "class Card():\n",
    "    def __init__(self, color_map):\n",
    "        self.color_map = color_map\n",
    "        self.color_enum = self.build_enum(color_map)\n",
    "        print(self.color_enum)\n",
    "        self.color_codes = self.build_color_codes()\n",
    "    \n",
    "    def build_enum(self, color_map):\n",
    "        color_map_copy = list(color_map)\n",
    "        color_enum = {}\n",
    "        enum_num = 1\n",
    "        for i, _ in enumerate(color_map):\n",
    "            color = color_map_copy.pop(1)\n",
    "            color_enum[enum_num] = color\n",
    "            \n",
    "            if not color in color_map_copy:\n",
    "                enum_num += 1\n",
    "    \n",
    "    def build_color_codes(self):\n",
    "        pass"
   ]
  }
 ],
 "metadata": {
  "kernelspec": {
   "display_name": "Python 3 (ipykernel)",
   "language": "python",
   "name": "python3"
  },
  "language_info": {
   "codemirror_mode": {
    "name": "ipython",
    "version": 3
   },
   "file_extension": ".py",
   "mimetype": "text/x-python",
   "name": "python",
   "nbconvert_exporter": "python",
   "pygments_lexer": "ipython3",
   "version": "3.9.12"
  }
 },
 "nbformat": 4,
 "nbformat_minor": 5
}
