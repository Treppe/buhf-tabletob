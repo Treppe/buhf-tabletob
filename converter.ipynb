{
 "cells": [
  {
   "cell_type": "code",
   "execution_count": 1,
   "id": "8548d52a",
   "metadata": {},
   "outputs": [],
   "source": [
    "import cv2\n",
    "import numpy as np\n",
    "import matplotlib.pyplot as plt"
   ]
  },
  {
   "cell_type": "code",
   "execution_count": 2,
   "id": "88f882d9",
   "metadata": {},
   "outputs": [
    {
     "data": {
      "image/png": "[encoded data removed]",
      "text/plain": [
       "<Figure size 432x288 with 1 Axes>"
      ]
     },
     "metadata": {
      "needs_background": "light"
     },
     "output_type": "display_data"
    }
   ],
   "source": [
    "card = cv2.imread('../../cards/no-corner4.png', cv2.COLOR_BGR2RGB)\n",
    "plt.imshow(card)\n",
    "plt.show()"
   ]
  },
  {
   "cell_type": "code",
   "execution_count": 3,
   "id": "8a27a74d",
   "metadata": {},
   "outputs": [
    {
     "name": "stdout",
     "output_type": "stream",
     "text": [
      "85\n"
     ]
    },
    {
     "data": {
      "text/plain": [
       "[85, 171, 256, 342]"
      ]
     },
     "execution_count": 3,
     "metadata": {},
     "output_type": "execute_result"
    }
   ],
   "source": [
    "height = card.shape[0]\n",
    "print(height // 5)\n",
    "colors_id = [i * height // 5 for i in range(1, 5)]\n",
    "colors_id"
   ]
  },
  {
   "cell_type": "code",
   "execution_count": 4,
   "id": "470cb4a7",
   "metadata": {},
   "outputs": [
    {
     "data": {
      "text/plain": [
       "[array([ 31, 217, 255], dtype=uint8),\n",
       " array([226, 135, 113], dtype=uint8),\n",
       " array([102, 131, 255], dtype=uint8),\n",
       " array([205, 226, 136], dtype=uint8)]"
      ]
     },
     "execution_count": 4,
     "metadata": {},
     "output_type": "execute_result"
    }
   ],
   "source": [
    "half_width = card.shape[1] // 2\n",
    "colors = [card[i, half_width] for i in colors_id]\n",
    "colors"
   ]
  },
  {
   "cell_type": "code",
   "execution_count": 5,
   "id": "c6a1b18f",
   "metadata": {},
   "outputs": [],
   "source": [
    "class Card():\n",
    "    def __init__(self, color_map):\n",
    "        self.color_map = color_map\n",
    "        self.color_enum = self.build_enum(color_map)\n",
    "        self.color_codes = self.build_color_codes(color_map, self.color_enum)\n",
    "    \n",
    "    def build_enum(self, color_map):\n",
    "        color_map_copy = list(color_map)\n",
    "        color_enum = {}\n",
    "        enum_num = 1\n",
    "        for i, _ in enumerate(color_map):\n",
    "            color = color_map_copy.pop(0)\n",
    "            color_enum[enum_num] = color\n",
    "            \n",
    "            pixel_in_list = any((color == other_c).all() for other_c in color_map_copy)\n",
    "            if not pixel_in_list:\n",
    "                enum_num += 1\n",
    "        \n",
    "        return color_enum\n",
    "    \n",
    "    def build_color_codes(self, color_map, color_enum):\n",
    "        color_codes = {}\n",
    "\n",
    "        for num in color_enum.keys():\n",
    "            color_codes[num] = \"\"\n",
    "            for color in color_map:\n",
    "                if (color == color_enum[num]).all():\n",
    "                    color_codes[num] += \"1\"\n",
    "                else:\n",
    "                    color_codes[num] += \"0\"\n",
    "        \n",
    "        return color_codes"
   ]
  },
  {
   "cell_type": "code",
   "execution_count": 6,
   "id": "a4c574a6",
   "metadata": {},
   "outputs": [
    {
     "name": "stdout",
     "output_type": "stream",
     "text": [
      "{1: array([ 31, 217, 255], dtype=uint8), 2: array([226, 135, 113], dtype=uint8), 3: array([102, 131, 255], dtype=uint8), 4: array([205, 226, 136], dtype=uint8)}\n",
      "{1: '1000', 2: '0100', 3: '0010', 4: '0001'}\n"
     ]
    }
   ],
   "source": [
    "card_obj = Card(colors)\n",
    "print(card_obj.color_enum)\n",
    "print(card_obj.color_codes)"
   ]
  },
  {
   "cell_type": "code",
   "execution_count": null,
   "id": "b6578012",
   "metadata": {},
   "outputs": [],
   "source": []
  }
 ],
 "metadata": {
  "kernelspec": {
   "display_name": "Python 3 (ipykernel)",
   "language": "python",
   "name": "python3"
  },
  "language_info": {
   "codemirror_mode": {
    "name": "ipython",
    "version": 3
   },
   "file_extension": ".py",
   "mimetype": "text/x-python",
   "name": "python",
   "nbconvert_exporter": "python",
   "pygments_lexer": "ipython3",
   "version": "3.9.12"
  }
 },
 "nbformat": 4,
 "nbformat_minor": 5
}
